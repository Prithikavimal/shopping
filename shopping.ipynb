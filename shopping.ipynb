{
  "nbformat": 4,
  "nbformat_minor": 0,
  "metadata": {
    "colab": {
      "provenance": []
    },
    "kernelspec": {
      "name": "python3",
      "display_name": "Python 3"
    },
    "language_info": {
      "name": "python"
    }
  },
  "cells": [
    {
      "cell_type": "code",
      "execution_count": null,
      "metadata": {
        "id": "XMv012XDeegf"
      },
      "outputs": [],
      "source": []
    },
    {
      "cell_type": "code",
      "source": [
        "def recommend_products(self):\n",
        "    \"\"\"\n",
        "    Recommend products based on the user's preferences.\n",
        "    \"\"\"\n",
        "    if not self.preferences:\n",
        "        print(\"No preferences found. Please enter your preferences first.\")\n",
        "        return\n",
        "\n",
        "    self.recommendations = []\n",
        "    for preference in self.preferences:\n",
        "        self.recommendations.extend(self.products[preference])\n",
        "\n",
        "    print(\"\\nRecommended Products based on your preferences:\")\n",
        "    for product in self.recommendations:\n",
        "        print(f\"- {product}\")\n"
      ],
      "metadata": {
        "id": "ETGzKOO4eqEf"
      },
      "execution_count": 1,
      "outputs": []
    }
  ]
}